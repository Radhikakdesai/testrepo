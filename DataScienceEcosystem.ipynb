{
 "cells": [
  {
   "cell_type": "markdown",
   "id": "cbd64220-e370-4e59-b207-e14ee33007b0",
   "metadata": {},
   "source": [
    "# Data Science Tools and Ecosystem"
   ]
  },
  {
   "cell_type": "markdown",
   "id": "9710472e-71b2-4cf9-9851-db8aa256ee8a",
   "metadata": {},
   "source": [
    "In this notebook, Data Science Tools and Ecosystem are summarized."
   ]
  },
  {
   "cell_type": "markdown",
   "id": "3356dbb2-c304-4135-9360-17318d789b62",
   "metadata": {},
   "source": [
    "Some of the popular languages that Data Scientists use are:"
   ]
  },
  {
   "cell_type": "markdown",
   "id": "f871363e-10c1-4f24-bbb1-a135cb501b0c",
   "metadata": {
    "tags": []
   },
   "source": [
    "1. Python"
   ]
  },
  {
   "cell_type": "markdown",
   "id": "3b0c99dc-39e0-4b76-9b0c-855453696395",
   "metadata": {
    "tags": []
   },
   "source": [
    "2. SQL"
   ]
  },
  {
   "cell_type": "markdown",
   "id": "680043f6-9e1b-4cd2-9bf0-985928c04e27",
   "metadata": {},
   "source": [
    "3. R"
   ]
  },
  {
   "cell_type": "markdown",
   "id": "17a11954-63c2-4c3a-aaa5-87b2c316481c",
   "metadata": {},
   "source": [
    "4. VBL"
   ]
  },
  {
   "cell_type": "markdown",
   "id": "62465a73-0678-40d4-8566-6e4e8b4a6258",
   "metadata": {},
   "source": [
    "Some of the commonly used libraries used by Data Scientists include:"
   ]
  },
  {
   "cell_type": "markdown",
   "id": "69395d8b-f46e-4cfa-bedb-1148a72617f1",
   "metadata": {},
   "source": [
    "1. Numpy"
   ]
  },
  {
   "cell_type": "markdown",
   "id": "d55a1657-eab5-435e-aeed-da2af7e1f71b",
   "metadata": {},
   "source": [
    "2. Pandas"
   ]
  },
  {
   "cell_type": "markdown",
   "id": "e1383063-3b4f-4b4d-ba00-31401fdc4045",
   "metadata": {},
   "source": [
    "3. Matplotlib"
   ]
  },
  {
   "cell_type": "markdown",
   "id": "14c50e23-e8fe-497e-ad3f-df850bd8b918",
   "metadata": {},
   "source": [
    "4. Scipy"
   ]
  },
  {
   "cell_type": "markdown",
   "id": "0f8eca00-71e9-4674-a51c-5de1c34a65ff",
   "metadata": {
    "tags": []
   },
   "source": [
    "| Data Science Tools |\n",
    "|:------------------:|\n",
    "| Apache Spark |\n",
    "| Apache Hadoop |\n",
    "| ggplot |"
   ]
  },
  {
   "cell_type": "markdown",
   "id": "64127de3-0219-40d2-9d3a-30ba25a19b17",
   "metadata": {},
   "source": [
    "### Below are a few examples of evaluating arithmetic expressions in Python"
   ]
  },
  {
   "cell_type": "markdown",
   "id": "7c7cdda5-521d-411e-9564-8eb7d5698b53",
   "metadata": {},
   "source": [
    "This a simple arithmetic expression to mutiply then add integers"
   ]
  },
  {
   "cell_type": "code",
   "execution_count": 8,
   "id": "b1845f0b-c619-44a3-a57c-1e77cc8b080f",
   "metadata": {
    "tags": []
   },
   "outputs": [
    {
     "name": "stdout",
     "output_type": "stream",
     "text": [
      "17\n"
     ]
    }
   ],
   "source": [
    "print(3*4+5)"
   ]
  },
  {
   "cell_type": "markdown",
   "id": "33fc09ef-e05f-437a-924b-8ffe7c8c0ab0",
   "metadata": {},
   "source": [
    "This will convert 200 minutes to hours by diving by 60"
   ]
  },
  {
   "cell_type": "code",
   "execution_count": 10,
   "id": "d0be2d78-e000-4b62-bcec-01cdc00c5fd9",
   "metadata": {
    "tags": []
   },
   "outputs": [
    {
     "name": "stdout",
     "output_type": "stream",
     "text": [
      "3.3333333333333335\n"
     ]
    }
   ],
   "source": [
    "print(200/60)"
   ]
  },
  {
   "cell_type": "markdown",
   "id": "76354838-cdfe-4082-9e9d-ca8c2a91d275",
   "metadata": {},
   "source": [
    "**Objectives**"
   ]
  },
  {
   "cell_type": "markdown",
   "id": "bf23bd8d-8488-4248-a0c1-758af8b65f7d",
   "metadata": {},
   "source": [
    "* Python"
   ]
  },
  {
   "cell_type": "markdown",
   "id": "be7874f4-dd56-49c7-b00e-c65ff1a959a7",
   "metadata": {},
   "source": [
    "* SQL"
   ]
  },
  {
   "cell_type": "markdown",
   "id": "945cd647-3bf1-42fb-a3c3-f9dc941b52f4",
   "metadata": {},
   "source": [
    "* R"
   ]
  },
  {
   "cell_type": "markdown",
   "id": "6fa5a11b-7e52-4ad5-9de1-44112d856bfd",
   "metadata": {},
   "source": [
    "## Author"
   ]
  },
  {
   "cell_type": "markdown",
   "id": "4d032380-7f1d-410f-9a3d-eb8f23751bc8",
   "metadata": {},
   "source": [
    "Dr. Radhika Desai"
   ]
  }
 ],
 "metadata": {
  "kernelspec": {
   "display_name": "Python",
   "language": "python",
   "name": "conda-env-python-py"
  },
  "language_info": {
   "codemirror_mode": {
    "name": "ipython",
    "version": 3
   },
   "file_extension": ".py",
   "mimetype": "text/x-python",
   "name": "python",
   "nbconvert_exporter": "python",
   "pygments_lexer": "ipython3",
   "version": "3.7.12"
  }
 },
 "nbformat": 4,
 "nbformat_minor": 5
}
